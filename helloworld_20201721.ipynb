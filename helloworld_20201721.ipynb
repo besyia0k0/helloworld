{
  "nbformat": 4,
  "nbformat_minor": 0,
  "metadata": {
    "colab": {
      "name": "helloworld_20201721.ipynb",
      "provenance": [],
      "authorship_tag": "ABX9TyPSgt+OneO2yRUJjtVC4thH",
      "include_colab_link": true
    },
    "kernelspec": {
      "name": "python3",
      "display_name": "Python 3"
    }
  },
  "cells": [
    {
      "cell_type": "markdown",
      "metadata": {
        "id": "view-in-github",
        "colab_type": "text"
      },
      "source": [
        "<a href=\"https://colab.research.google.com/github/besyia0k0/helloworld/blob/main/helloworld_20201721.ipynb\" target=\"_parent\"><img src=\"https://colab.research.google.com/assets/colab-badge.svg\" alt=\"Open In Colab\"/></a>"
      ]
    },
    {
      "cell_type": "code",
      "metadata": {
        "id": "DQ6a4xKQmMmv",
        "outputId": "e5a9540f-4da6-4c0e-af68-f71a1f5b7e65",
        "colab": {
          "base_uri": "https://localhost:8080/",
          "height": 35
        }
      },
      "source": [
        "print('helloworld', 20201721)"
      ],
      "execution_count": 1,
      "outputs": [
        {
          "output_type": "stream",
          "text": [
            "helloworld 20201721\n"
          ],
          "name": "stdout"
        }
      ]
    }
  ]
}